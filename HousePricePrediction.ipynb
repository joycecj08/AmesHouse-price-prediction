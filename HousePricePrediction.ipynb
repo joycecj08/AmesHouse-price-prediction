{
 "cells": [
  {
   "cell_type": "code",
   "execution_count": 47,
   "id": "1db16f51-07b8-48e7-9f11-59853d9e3e44",
   "metadata": {},
   "outputs": [],
   "source": [
    "import pandas as pd\n",
    "import numpy as np\n",
    "from sklearn.model_selection import train_test_split\n",
    "from sklearn.preprocessing import StandardScaler\n",
    "from sklearn.linear_model import LinearRegression\n",
    "from sklearn.metrics import mean_squared_error, r2_score"
   ]
  },
  {
   "cell_type": "code",
   "execution_count": 48,
   "id": "bf751bd9-743a-4b40-9587-67c0c668f8ec",
   "metadata": {},
   "outputs": [],
   "source": [
    "df = pd.read_csv(\"AmesHousing.csv\")"
   ]
  },
  {
   "cell_type": "code",
   "execution_count": 49,
   "id": "05649dbd-f008-4f8f-a4a7-f2bd2795e6b3",
   "metadata": {},
   "outputs": [
    {
     "name": "stdout",
     "output_type": "stream",
     "text": [
      "   Order        PID  MS SubClass MS Zoning  Lot Frontage  Lot Area Street  \\\n",
      "0      1  526301100           20        RL         141.0     31770   Pave   \n",
      "1      2  526350040           20        RH          80.0     11622   Pave   \n",
      "2      3  526351010           20        RL          81.0     14267   Pave   \n",
      "3      4  526353030           20        RL          93.0     11160   Pave   \n",
      "4      5  527105010           60        RL          74.0     13830   Pave   \n",
      "\n",
      "  Alley Lot Shape Land Contour  ... Pool Area Pool QC  Fence Misc Feature  \\\n",
      "0   NaN       IR1          Lvl  ...         0     NaN    NaN          NaN   \n",
      "1   NaN       Reg          Lvl  ...         0     NaN  MnPrv          NaN   \n",
      "2   NaN       IR1          Lvl  ...         0     NaN    NaN         Gar2   \n",
      "3   NaN       Reg          Lvl  ...         0     NaN    NaN          NaN   \n",
      "4   NaN       IR1          Lvl  ...         0     NaN  MnPrv          NaN   \n",
      "\n",
      "  Misc Val Mo Sold Yr Sold Sale Type  Sale Condition  SalePrice  \n",
      "0        0       5    2010       WD           Normal     215000  \n",
      "1        0       6    2010       WD           Normal     105000  \n",
      "2    12500       6    2010       WD           Normal     172000  \n",
      "3        0       4    2010       WD           Normal     244000  \n",
      "4        0       3    2010       WD           Normal     189900  \n",
      "\n",
      "[5 rows x 82 columns]\n"
     ]
    }
   ],
   "source": [
    "print(df.head())"
   ]
  },
  {
   "cell_type": "code",
   "execution_count": 50,
   "id": "095d1b3c-9982-4b0f-a767-d3cdca0ddef1",
   "metadata": {},
   "outputs": [
    {
     "name": "stdout",
     "output_type": "stream",
     "text": [
      "<class 'pandas.core.frame.DataFrame'>\n",
      "RangeIndex: 2930 entries, 0 to 2929\n",
      "Data columns (total 82 columns):\n",
      " #   Column           Non-Null Count  Dtype  \n",
      "---  ------           --------------  -----  \n",
      " 0   Order            2930 non-null   int64  \n",
      " 1   PID              2930 non-null   int64  \n",
      " 2   MS SubClass      2930 non-null   int64  \n",
      " 3   MS Zoning        2930 non-null   object \n",
      " 4   Lot Frontage     2440 non-null   float64\n",
      " 5   Lot Area         2930 non-null   int64  \n",
      " 6   Street           2930 non-null   object \n",
      " 7   Alley            198 non-null    object \n",
      " 8   Lot Shape        2930 non-null   object \n",
      " 9   Land Contour     2930 non-null   object \n",
      " 10  Utilities        2930 non-null   object \n",
      " 11  Lot Config       2930 non-null   object \n",
      " 12  Land Slope       2930 non-null   object \n",
      " 13  Neighborhood     2930 non-null   object \n",
      " 14  Condition 1      2930 non-null   object \n",
      " 15  Condition 2      2930 non-null   object \n",
      " 16  Bldg Type        2930 non-null   object \n",
      " 17  House Style      2930 non-null   object \n",
      " 18  Overall Qual     2930 non-null   int64  \n",
      " 19  Overall Cond     2930 non-null   int64  \n",
      " 20  Year Built       2930 non-null   int64  \n",
      " 21  Year Remod/Add   2930 non-null   int64  \n",
      " 22  Roof Style       2930 non-null   object \n",
      " 23  Roof Matl        2930 non-null   object \n",
      " 24  Exterior 1st     2930 non-null   object \n",
      " 25  Exterior 2nd     2930 non-null   object \n",
      " 26  Mas Vnr Type     1155 non-null   object \n",
      " 27  Mas Vnr Area     2907 non-null   float64\n",
      " 28  Exter Qual       2930 non-null   object \n",
      " 29  Exter Cond       2930 non-null   object \n",
      " 30  Foundation       2930 non-null   object \n",
      " 31  Bsmt Qual        2850 non-null   object \n",
      " 32  Bsmt Cond        2850 non-null   object \n",
      " 33  Bsmt Exposure    2847 non-null   object \n",
      " 34  BsmtFin Type 1   2850 non-null   object \n",
      " 35  BsmtFin SF 1     2929 non-null   float64\n",
      " 36  BsmtFin Type 2   2849 non-null   object \n",
      " 37  BsmtFin SF 2     2929 non-null   float64\n",
      " 38  Bsmt Unf SF      2929 non-null   float64\n",
      " 39  Total Bsmt SF    2929 non-null   float64\n",
      " 40  Heating          2930 non-null   object \n",
      " 41  Heating QC       2930 non-null   object \n",
      " 42  Central Air      2930 non-null   object \n",
      " 43  Electrical       2929 non-null   object \n",
      " 44  1st Flr SF       2930 non-null   int64  \n",
      " 45  2nd Flr SF       2930 non-null   int64  \n",
      " 46  Low Qual Fin SF  2930 non-null   int64  \n",
      " 47  Gr Liv Area      2930 non-null   int64  \n",
      " 48  Bsmt Full Bath   2928 non-null   float64\n",
      " 49  Bsmt Half Bath   2928 non-null   float64\n",
      " 50  Full Bath        2930 non-null   int64  \n",
      " 51  Half Bath        2930 non-null   int64  \n",
      " 52  Bedroom AbvGr    2930 non-null   int64  \n",
      " 53  Kitchen AbvGr    2930 non-null   int64  \n",
      " 54  Kitchen Qual     2930 non-null   object \n",
      " 55  TotRms AbvGrd    2930 non-null   int64  \n",
      " 56  Functional       2930 non-null   object \n",
      " 57  Fireplaces       2930 non-null   int64  \n",
      " 58  Fireplace Qu     1508 non-null   object \n",
      " 59  Garage Type      2773 non-null   object \n",
      " 60  Garage Yr Blt    2771 non-null   float64\n",
      " 61  Garage Finish    2771 non-null   object \n",
      " 62  Garage Cars      2929 non-null   float64\n",
      " 63  Garage Area      2929 non-null   float64\n",
      " 64  Garage Qual      2771 non-null   object \n",
      " 65  Garage Cond      2771 non-null   object \n",
      " 66  Paved Drive      2930 non-null   object \n",
      " 67  Wood Deck SF     2930 non-null   int64  \n",
      " 68  Open Porch SF    2930 non-null   int64  \n",
      " 69  Enclosed Porch   2930 non-null   int64  \n",
      " 70  3Ssn Porch       2930 non-null   int64  \n",
      " 71  Screen Porch     2930 non-null   int64  \n",
      " 72  Pool Area        2930 non-null   int64  \n",
      " 73  Pool QC          13 non-null     object \n",
      " 74  Fence            572 non-null    object \n",
      " 75  Misc Feature     106 non-null    object \n",
      " 76  Misc Val         2930 non-null   int64  \n",
      " 77  Mo Sold          2930 non-null   int64  \n",
      " 78  Yr Sold          2930 non-null   int64  \n",
      " 79  Sale Type        2930 non-null   object \n",
      " 80  Sale Condition   2930 non-null   object \n",
      " 81  SalePrice        2930 non-null   int64  \n",
      "dtypes: float64(11), int64(28), object(43)\n",
      "memory usage: 1.8+ MB\n",
      "None\n"
     ]
    }
   ],
   "source": [
    "print(df.info())"
   ]
  },
  {
   "cell_type": "code",
   "execution_count": 51,
   "id": "2fe1d55b-1224-4d92-872e-24834f3b0a72",
   "metadata": {},
   "outputs": [
    {
     "name": "stdout",
     "output_type": "stream",
     "text": [
      "            Order           PID  MS SubClass  Lot Frontage       Lot Area  \\\n",
      "count  2930.00000  2.930000e+03  2930.000000   2440.000000    2930.000000   \n",
      "mean   1465.50000  7.144645e+08    57.387372     69.224590   10147.921843   \n",
      "std     845.96247  1.887308e+08    42.638025     23.365335    7880.017759   \n",
      "min       1.00000  5.263011e+08    20.000000     21.000000    1300.000000   \n",
      "25%     733.25000  5.284770e+08    20.000000     58.000000    7440.250000   \n",
      "50%    1465.50000  5.354536e+08    50.000000     68.000000    9436.500000   \n",
      "75%    2197.75000  9.071811e+08    70.000000     80.000000   11555.250000   \n",
      "max    2930.00000  1.007100e+09   190.000000    313.000000  215245.000000   \n",
      "\n",
      "       Overall Qual  Overall Cond   Year Built  Year Remod/Add  Mas Vnr Area  \\\n",
      "count   2930.000000   2930.000000  2930.000000     2930.000000   2907.000000   \n",
      "mean       6.094881      5.563140  1971.356314     1984.266553    101.896801   \n",
      "std        1.411026      1.111537    30.245361       20.860286    179.112611   \n",
      "min        1.000000      1.000000  1872.000000     1950.000000      0.000000   \n",
      "25%        5.000000      5.000000  1954.000000     1965.000000      0.000000   \n",
      "50%        6.000000      5.000000  1973.000000     1993.000000      0.000000   \n",
      "75%        7.000000      6.000000  2001.000000     2004.000000    164.000000   \n",
      "max       10.000000      9.000000  2010.000000     2010.000000   1600.000000   \n",
      "\n",
      "       ...  Wood Deck SF  Open Porch SF  Enclosed Porch   3Ssn Porch  \\\n",
      "count  ...   2930.000000    2930.000000     2930.000000  2930.000000   \n",
      "mean   ...     93.751877      47.533447       23.011604     2.592491   \n",
      "std    ...    126.361562      67.483400       64.139059    25.141331   \n",
      "min    ...      0.000000       0.000000        0.000000     0.000000   \n",
      "25%    ...      0.000000       0.000000        0.000000     0.000000   \n",
      "50%    ...      0.000000      27.000000        0.000000     0.000000   \n",
      "75%    ...    168.000000      70.000000        0.000000     0.000000   \n",
      "max    ...   1424.000000     742.000000     1012.000000   508.000000   \n",
      "\n",
      "       Screen Porch    Pool Area      Misc Val      Mo Sold      Yr Sold  \\\n",
      "count   2930.000000  2930.000000   2930.000000  2930.000000  2930.000000   \n",
      "mean      16.002048     2.243345     50.635154     6.216041  2007.790444   \n",
      "std       56.087370    35.597181    566.344288     2.714492     1.316613   \n",
      "min        0.000000     0.000000      0.000000     1.000000  2006.000000   \n",
      "25%        0.000000     0.000000      0.000000     4.000000  2007.000000   \n",
      "50%        0.000000     0.000000      0.000000     6.000000  2008.000000   \n",
      "75%        0.000000     0.000000      0.000000     8.000000  2009.000000   \n",
      "max      576.000000   800.000000  17000.000000    12.000000  2010.000000   \n",
      "\n",
      "           SalePrice  \n",
      "count    2930.000000  \n",
      "mean   180796.060068  \n",
      "std     79886.692357  \n",
      "min     12789.000000  \n",
      "25%    129500.000000  \n",
      "50%    160000.000000  \n",
      "75%    213500.000000  \n",
      "max    755000.000000  \n",
      "\n",
      "[8 rows x 39 columns]\n"
     ]
    }
   ],
   "source": [
    "print(df.describe())"
   ]
  },
  {
   "cell_type": "code",
   "execution_count": 52,
   "id": "97ee8aec-d3a2-4fab-8102-2ea48564c116",
   "metadata": {},
   "outputs": [
    {
     "data": {
      "text/plain": [
       "Index(['Order', 'PID', 'MS SubClass', 'MS Zoning', 'Lot Frontage', 'Lot Area',\n",
       "       'Street', 'Alley', 'Lot Shape', 'Land Contour', 'Utilities',\n",
       "       'Lot Config', 'Land Slope', 'Neighborhood', 'Condition 1',\n",
       "       'Condition 2', 'Bldg Type', 'House Style', 'Overall Qual',\n",
       "       'Overall Cond', 'Year Built', 'Year Remod/Add', 'Roof Style',\n",
       "       'Roof Matl', 'Exterior 1st', 'Exterior 2nd', 'Mas Vnr Type',\n",
       "       'Mas Vnr Area', 'Exter Qual', 'Exter Cond', 'Foundation', 'Bsmt Qual',\n",
       "       'Bsmt Cond', 'Bsmt Exposure', 'BsmtFin Type 1', 'BsmtFin SF 1',\n",
       "       'BsmtFin Type 2', 'BsmtFin SF 2', 'Bsmt Unf SF', 'Total Bsmt SF',\n",
       "       'Heating', 'Heating QC', 'Central Air', 'Electrical', '1st Flr SF',\n",
       "       '2nd Flr SF', 'Low Qual Fin SF', 'Gr Liv Area', 'Bsmt Full Bath',\n",
       "       'Bsmt Half Bath', 'Full Bath', 'Half Bath', 'Bedroom AbvGr',\n",
       "       'Kitchen AbvGr', 'Kitchen Qual', 'TotRms AbvGrd', 'Functional',\n",
       "       'Fireplaces', 'Fireplace Qu', 'Garage Type', 'Garage Yr Blt',\n",
       "       'Garage Finish', 'Garage Cars', 'Garage Area', 'Garage Qual',\n",
       "       'Garage Cond', 'Paved Drive', 'Wood Deck SF', 'Open Porch SF',\n",
       "       'Enclosed Porch', '3Ssn Porch', 'Screen Porch', 'Pool Area', 'Pool QC',\n",
       "       'Fence', 'Misc Feature', 'Misc Val', 'Mo Sold', 'Yr Sold', 'Sale Type',\n",
       "       'Sale Condition', 'SalePrice'],\n",
       "      dtype='object')"
      ]
     },
     "execution_count": 52,
     "metadata": {},
     "output_type": "execute_result"
    }
   ],
   "source": [
    "df.columns"
   ]
  },
  {
   "cell_type": "code",
   "execution_count": 59,
   "id": "8fd64269-3e63-42d9-944d-d7d716491f97",
   "metadata": {},
   "outputs": [],
   "source": [
    "df = pd.get_dummies(df, drop_first=True)"
   ]
  },
  {
   "cell_type": "code",
   "execution_count": 60,
   "id": "61e20099-0fc3-487a-a06a-064a6b2fde5b",
   "metadata": {},
   "outputs": [],
   "source": [
    "features = df.drop('SalePrice', axis=1)\n",
    "target = df['SalePrice']"
   ]
  },
  {
   "cell_type": "code",
   "execution_count": null,
   "id": "da7b0c24-86e3-41cf-bca5-162c37f3c4c4",
   "metadata": {},
   "outputs": [],
   "source": [
    "feature = df[['Overall Qual','Year Built', 'Gr Liv Area','Full Bath','TotRms AbvGrd','Garage Area','Total Bsmt SF','Garage Cars','1st Flr SF']]\n",
    "target = df['SalePrice']"
   ]
  },
  {
   "cell_type": "code",
   "execution_count": 61,
   "id": "075efb93-af14-4567-958a-c63a27e6e2e5",
   "metadata": {},
   "outputs": [
    {
     "data": {
      "text/plain": [
       "<function seaborn.utils.despine(fig=None, ax=None, top=True, right=True, left=False, bottom=False, offset=None, trim=False)>"
      ]
     },
     "execution_count": 61,
     "metadata": {},
     "output_type": "execute_result"
    },
    {
     "data": {
      "image/png": "[encoded data removed]",
      "text/plain": [
       "<Figure size 640x480 with 1 Axes>"
      ]
     },
     "metadata": {},
     "output_type": "display_data"
    }
   ],
   "source": [
    "import matplotlib.pyplot as plt\n",
    "import seaborn as sns\n",
    "df['TotRms AbvGrd'].value_counts().plot(kind='bar')\n",
    "plt.xlabel('rooms')\n",
    "plt.ylabel('count')\n",
    "sns.despine  "
   ]
  },
  {
   "cell_type": "code",
   "execution_count": 55,
   "id": "ad0b5fe2-235b-4906-ae0c-7e5a42c3a337",
   "metadata": {},
   "outputs": [],
   "source": []
  },
  {
   "cell_type": "code",
   "execution_count": 57,
   "id": "08ca5d38-3a08-4ac5-85dc-d7a55569c3d9",
   "metadata": {},
   "outputs": [],
   "source": [
    "lr = LinearRegression()"
   ]
  },
  {
   "cell_type": "code",
   "execution_count": null,
   "id": "cc7f4257-9251-4a82-9e0e-86a6d560272d",
   "metadata": {},
   "outputs": [],
   "source": []
  },
  {
   "cell_type": "code",
   "execution_count": 64,
   "id": "17fa7dc3-6cc4-4f40-997b-adaf94f48023",
   "metadata": {},
   "outputs": [
    {
     "name": "stdout",
     "output_type": "stream",
     "text": [
      "Order                       0\n",
      "PID                         0\n",
      "MS SubClass                 0\n",
      "Lot Frontage              490\n",
      "Lot Area                    0\n",
      "                         ... \n",
      "Sale Condition_AdjLand      0\n",
      "Sale Condition_Alloca       0\n",
      "Sale Condition_Family       0\n",
      "Sale Condition_Normal       0\n",
      "Sale Condition_Partial      0\n",
      "Length: 263, dtype: int64\n"
     ]
    }
   ],
   "source": [
    "print(df.isnull().sum())"
   ]
  },
  {
   "cell_type": "code",
   "execution_count": 66,
   "id": "9de1c2ed-5918-4b63-b883-22281e9a600a",
   "metadata": {},
   "outputs": [
    {
     "name": "stdout",
     "output_type": "stream",
     "text": [
      "Mean Squared Error: 0.47336483746848673\n",
      "R^2 Score: 0.9999999999409589\n",
      "[161000.         116000.         196500.         123600.\n",
      " 126000.         174190.         200000.         148500.\n",
      "  88750.         409900.         235000.         246900.\n",
      "  85500.         145000.          95000.         160500.\n",
      " 147000.         192500.         124000.         137500.\n",
      " 198900.         140000.         200000.         192500.\n",
      " 185000.         306000.         392000.         195000.\n",
      " 197900.         227680.         185900.          87000.\n",
      " 201000.         103000.         128500.          75190.\n",
      " 176485.         274900.         187000.         260000.\n",
      " 342643.         240000.         263400.         183000.\n",
      " 120000.         350000.         185750.         155000.\n",
      " 171500.         125000.         162900.         134500.\n",
      " 134500.         150000.         213133.         190550.\n",
      " 180000.         118000.         210900.         133500.\n",
      "  60000.         144000.          84500.         337500.\n",
      " 246500.         185000.         135000.         241500.\n",
      " 151000.         199500.         167500.         191000.\n",
      " 318000.          80000.         132000.         402861.\n",
      " 158000.         235128.         148000.         180500.\n",
      " 170000.         119000.         139500.         195000.\n",
      " 286000.         177000.         128000.         141000.\n",
      " 203160.         184750.         204500.          79000.\n",
      " 137500.          59000.         190000.         177439.\n",
      "  44000.         245000.         215700.         255900.\n",
      "  98000.         392500.         415298.         403000.\n",
      " 228000.         160000.         286500.         200000.\n",
      " 165500.         111500.         256000.         123500.\n",
      " 130000.         111000.         226750.         122000.\n",
      " 230000.         235000.         212000.         177000.\n",
      " 119000.         123000.         129900.         156500.\n",
      " 108000.         625000.         135000.         244000.\n",
      " 167000.         247900.         126000.         156932.\n",
      " 167000.         126000.         395039.         264500.\n",
      " 127500.         163000.         335000.         209000.\n",
      " 228500.         255900.         167500.         197000.\n",
      " 100000.         123900.         188000.         239900.\n",
      " 135000.         100000.         223000.         419005.\n",
      " 146500.         239000.         132000.         165500.\n",
      " 250000.          60000.         185000.         151500.\n",
      " 226500.          92000.         307000.         161500.\n",
      " 140000.         207500.         492000.         244600.\n",
      " 291000.         268000.         102000.         134000.\n",
      " 300000.         611657.         138000.         501837.\n",
      " 159900.          92900.         109000.         129000.\n",
      " 279500.         173900.         147000.         110000.\n",
      " 116000.         213000.          88250.         248000.\n",
      " 197900.         165000.         155000.         350000.\n",
      " 106250.         312500.         119900.         105500.\n",
      " 152000.         151000.         189000.         115500.\n",
      " 129850.         177594.         164000.         219000.\n",
      " 179000.         390000.         141500.         117250.\n",
      " 154000.          64500.         159900.         370000.\n",
      " 218000.         269500.         257000.          50000.\n",
      " 338500.         181000.         148500.         276000.\n",
      " 100000.         303477.         290000.         173000.\n",
      "  81000.          87000.         224000.         264132.\n",
      " 108959.         195000.         181000.         195500.\n",
      " 152000.         215000.         152500.         260000.\n",
      " 169985.         319016.65508243 153500.         226700.\n",
      " 215000.         173000.         235000.         126000.\n",
      " 266000.         245000.         271000.         251000.\n",
      " 155000.         378500.         123000.          66500.\n",
      " 159000.         133000.         229800.         113000.\n",
      " 120500.         128000.         173500.          98300.\n",
      "  95000.         222000.         245700.          89471.\n",
      " 226500.         149000.         135000.         446261.\n",
      " 137500.         126000.         184100.          95000.\n",
      " 130000.         135000.         315000.         120000.\n",
      " 132000.         174000.         257000.         196000.\n",
      " 315000.         174000.         211000.         207500.\n",
      " 138800.         285000.         254900.         143000.\n",
      " 161000.         129500.         127000.         140000.\n",
      " 275000.         139000.         103000.         177000.\n",
      " 254900.         265000.         165000.          97500.\n",
      " 185088.         300000.         105000.         320000.\n",
      " 141000.         284700.         136500.         187750.\n",
      " 161500.         341000.         169000.         218000.\n",
      " 175900.          99500.         210000.         336000.\n",
      " 412083.         225000.         350000.         382500.\n",
      " 240000.         132000.         159950.         159000.\n",
      " 370000.         215000.         140000.         424870.\n",
      " 153600.         157000.         230000.         204000.\n",
      " 145900.         243500.         250000.         131500.\n",
      "  93500.         110000.         280750.         148500.\n",
      " 141500.         125900.          80000.         166000.\n",
      "  81000.         208900.         193000.         188000.\n",
      " 127000.         135000.         207000.         344133.\n",
      " 139000.         126000.         217300.          96000.\n",
      " 141000.         124000.         147983.         105000.\n",
      "  99900.         355000.         360000.         125500.\n",
      "  96500.         134500.         214000.         133000.\n",
      " 131000.          60000.         113000.          79400.\n",
      " 118858.          92000.         201800.         102000.\n",
      " 141000.         285000.         171000.         329900.\n",
      " 135000.         139000.         250000.         401179.\n",
      " 141000.         302000.          61500.         178000.\n",
      " 252000.         110000.         126500.         185900.\n",
      " 175500.         143500.         117600.         270000.\n",
      " 160000.         174000.         135000.          70000.\n",
      " 154000.         147000.         165000.         217500.\n",
      " 127500.         143000.         555000.         209200.\n",
      " 133500.         120000.         129500.         235000.\n",
      " 380000.         160000.         109000.         159000.\n",
      " 130000.         185500.         232000.         138000.\n",
      " 115000.         269500.         173733.         370878.\n",
      " 188000.         156000.         235876.         225000.\n",
      " 120000.         149900.         262280.         191000.\n",
      " 139900.         214000.         127000.         293000.\n",
      " 103000.         135500.         138500.         211000.\n",
      "  97000.         196000.         374000.         155000.\n",
      " 228000.         128500.         123000.          79000.\n",
      " 100000.          84000.         582933.         192000.\n",
      " 170000.         143750.         111000.         159000.\n",
      " 154300.         325000.         157000.         113000.\n",
      " 372500.         270000.         148000.         315000.\n",
      " 137500.         239000.         310090.         145400.\n",
      " 136500.         214000.         143000.         128500.\n",
      " 194000.         311500.         107500.0049131  139500.\n",
      " 112000.         118000.         140000.         187500.\n",
      " 147000.         170000.         121600.         156000.\n",
      " 128500.          89500.         118000.         334000.\n",
      " 147400.         119500.         191750.         130500.\n",
      "  81400.         246990.         106500.         143000.\n",
      "  85500.         157900.         281000.         302000.\n",
      " 213000.         118964.         148500.         250000.\n",
      " 412500.         187500.         142100.         148000.\n",
      " 280000.         124000.         167000.         610000.\n",
      " 138400.          80000.         128000.         220000.\n",
      " 271900.         151000.         132250.         131000.\n",
      " 237500.         160000.         227000.         262500.\n",
      " 163000.          64000.         267916.         174500.\n",
      " 115000.         144000.         174500.         163000.\n",
      " 133000.         192000.         175000.         315750.\n",
      " 441929.         184000.         249700.         215000.\n",
      " 142600.         257000.         147000.         230000.\n",
      "  95000.         180400.         142000.         485000.\n",
      " 200000.         148000.         144000.         130000.\n",
      "  96000.         287090.         165000.         130000.\n",
      " 211000.         135960.         229456.         122000.\n",
      " 159900.         208900.         290000.         157000.\n",
      " 243000.         141000.         127000.          83000.\n",
      " 181316.         207000.         135000.         150000.\n",
      " 225000.         335000.          85000.         183000.\n",
      " 179900.         250000.         144000.         126000.\n",
      "  61500.         187500.         552000.         173000.\n",
      " 118500.         147500.        ]\n"
     ]
    }
   ],
   "source": [
    "from sklearn.impute import SimpleImputer\n",
    "\n",
    "imputer = SimpleImputer(strategy='median')\n",
    "\n",
    "\n",
    "# Impute missing values\n",
    "features_imputed = imputer.fit_transform(df)\n",
    "\n",
    "# Split the data into training and testing sets\n",
    "X_train, X_test, y_train, y_test = train_test_split(features_imputed, target, test_size=0.2, random_state=42)\n",
    "\n",
    "# Scale the features\n",
    "scaler = StandardScaler()\n",
    "X_train_scaled = scaler.fit_transform(X_train)\n",
    "X_test_scaled = scaler.transform(X_test)\n",
    "\n",
    "# Fit the model\n",
    "lr = LinearRegression()\n",
    "lr.fit(X_train_scaled, y_train)\n",
    "\n",
    "# Make predictions\n",
    "y_pred = lr.predict(X_test_scaled)\n",
    "mse = mean_squared_error(y_test, y_pred)\n",
    "r2 = r2_score(y_test, y_pred)\n",
    "print(f'Mean Squared Error: {mse}')\n",
    "print(f'R^2 Score: {r2}')\n",
    "print(y_pred)\n"
   ]
  },
  {
   "cell_type": "code",
   "execution_count": 67,
   "id": "29e29ee2-6481-4d5e-bb35-b7f935f546fe",
   "metadata": {},
   "outputs": [
    {
     "data": {
      "image/png": "[encoded data removed]",
      "text/plain": [
       "<Figure size 640x480 with 1 Axes>"
      ]
     },
     "metadata": {},
     "output_type": "display_data"
    }
   ],
   "source": [
    "#Linear Regression plot\n",
    "import matplotlib.pyplot as plt\n",
    "\n",
    "plt.scatter(y_test, y_pred)\n",
    "plt.xlabel('Actual Prices')\n",
    "plt.ylabel('Predicted Prices')\n",
    "plt.title('Actual vs Predicted Prices')\n",
    "plt.show()"
   ]
  },
  {
   "cell_type": "code",
   "execution_count": 74,
   "id": "73abd21c-dd67-49f0-9b46-197d7293e5f0",
   "metadata": {},
   "outputs": [
    {
     "name": "stdout",
     "output_type": "stream",
     "text": [
      "Mean Squared Error: 20656605.778156996\n",
      "R^2 Score: 0.9974235756423077\n",
      "[161000. 116000. 196500. 123000. 126000. 174000. 199500. 148400.  89000.\n",
      " 410000. 235000. 246000.  85400. 145000.  94750. 160500. 147000. 193000.\n",
      " 124000. 137450. 199000. 140000. 200000. 193000. 185000. 305000. 394432.\n",
      " 195000. 197900. 227875. 186000.  87000. 201000. 103000. 128500.  75500.\n",
      " 176432. 275000. 187000. 260000. 339750. 240000. 263435. 183000. 120000.\n",
      " 348000. 186500. 155000. 171500. 125000. 163000. 134500. 134500. 150000.\n",
      " 213750. 190500. 180000. 118000. 211000. 133500.  61000. 144000.  84500.\n",
      " 336820. 245500. 185000. 135000. 241500. 150750. 199900. 167300. 190500.\n",
      " 318061.  80000. 132000. 404000. 158000. 234500. 148000. 180500. 170000.\n",
      " 119000. 139600. 195000. 285000. 177000. 128000. 141000. 203000. 184900.\n",
      " 204900.  79000. 137500.  58500. 190000. 177500.  45000. 245000. 216000.\n",
      " 256300.  97900. 394432. 410000. 405000. 227875. 160000. 285000. 200000.\n",
      " 165500. 111500. 256300. 123000. 130000. 111250. 226000. 122000. 230000.\n",
      " 234500. 212000. 177000. 119000. 123000. 129900. 156500. 107900. 584500.\n",
      " 135000. 244000. 167000. 248328. 126000. 157000. 167000. 126000. 394617.\n",
      " 264561. 127500. 163000. 335000. 209000. 228500. 256300. 167300. 197000.\n",
      " 100000. 123900. 188000. 239799. 135000. 100000. 223500. 423000. 146500.\n",
      " 238500. 132000. 165500. 250000.  61000. 185000. 151500. 226000.  91900.\n",
      " 305900. 161500. 140000. 207500. 556581. 245000. 290000. 267300. 102000.\n",
      " 133900. 300000. 615000. 138000. 500000. 159900.  93000. 109008. 129000.\n",
      " 279700. 174000. 147000. 110000. 116500. 213000.  88000. 248000. 198000.\n",
      " 165000. 155000. 348000. 105900. 311872. 119900. 105500. 152000. 151000.\n",
      " 189000. 115400. 129900. 178000. 164000. 219500. 179000. 394432. 141500.\n",
      " 117000. 154000.  65000. 159900. 369900. 218000. 269500. 257000.  52000.\n",
      " 339750. 181000. 148500. 275500. 100000. 305900. 290000. 173000.  80900.\n",
      "  87000. 224000. 264561. 109008. 195000. 181000. 195500. 152000. 215000.\n",
      " 152400. 260000. 169990. 318750. 153575. 226000. 215000. 173000. 235000.\n",
      " 126000. 265900. 245000. 272000. 251000. 155000. 377426. 123000.  68500.\n",
      " 159000. 133000. 229800. 113000. 120500. 128000. 173500.  99000.  94500.\n",
      " 222000. 245500.  89500. 226000. 148800. 135000. 445000. 137500. 126000.\n",
      " 183900.  95541. 130000. 135000. 315000. 120000. 132000. 174000. 257076.\n",
      " 196000. 315000. 174000. 210000. 207500. 139000. 285000. 254750. 143000.\n",
      " 161000. 129250. 127000. 140000. 275000. 139000. 103000. 177000. 255000.\n",
      " 264966. 165000.  96900. 185101. 299800. 105000. 320000. 141000. 286000.\n",
      " 136500. 187687. 162000. 340000. 169000. 218000. 175900.  99500. 211000.\n",
      " 337000. 415000. 225000. 348000. 383000. 240000. 132000. 159895. 159000.\n",
      " 369900. 215000. 140000. 438780. 153500. 157000. 230000. 204000. 146000.\n",
      " 244000. 250000. 131400.  93900. 110000. 281500. 148500. 141500. 126000.\n",
      "  79900. 166000.  81000. 209000. 193000. 188000. 127000. 135000. 207000.\n",
      " 345000. 139000. 126000. 217500.  97000. 141000. 124000. 148000. 105000.\n",
      "  99900. 354000. 359900. 125500.  97000. 134500. 214000. 133000. 131000.\n",
      "  61000. 113000.  79500. 118858.  91900. 202000. 102000. 141000. 284000.\n",
      " 171000. 330000. 135000. 139000. 250000. 405749. 141000. 301500.  61000.\n",
      " 177625. 252000. 110000. 126500. 186500. 175500. 143500. 117500. 270000.\n",
      " 160000. 174000. 135000.  72000. 154000. 147000. 165000. 217500. 127500.\n",
      " 143000. 500000. 208900. 133500. 120000. 129500. 234500. 378000. 160000.\n",
      " 109008. 159000. 130000. 185101. 232500. 138000. 115000. 269500. 173500.\n",
      " 370967. 188000. 156000. 238000. 225000. 120000. 149900. 263000. 191000.\n",
      " 139950. 214000. 127000. 293077. 103000. 135500. 138500. 211000.  97000.\n",
      " 195800. 372402. 155000. 228000. 128500. 123000.  79000. 100000.  83000.\n",
      " 584500. 192000. 170000. 143500. 111250. 159000. 154400. 325000. 157000.\n",
      " 113000. 372402. 269790. 148000. 315000. 137500. 239000. 310013. 145500.\n",
      " 136500. 214000. 143000. 128500. 194000. 312500. 107500. 139500. 112000.\n",
      " 118000. 140000. 187500. 147000. 170000. 121000. 156000. 128500.  89000.\n",
      " 118000. 335000. 147500. 119500. 192000. 130500.  82000. 246578. 106500.\n",
      " 143000.  85400. 157900. 281213. 301000. 213000. 118858. 148400. 250000.\n",
      " 410000. 187500. 142250. 148000. 280000. 124100. 167000. 615000. 138500.\n",
      "  80000. 128000. 220000. 271000. 151000. 132500. 131000. 237000. 160000.\n",
      " 227000. 263000. 162900.  64000. 268000. 174850. 115000. 144000. 174850.\n",
      " 163000. 133000. 192000. 175000. 315000. 440000. 184000. 250000. 215000.\n",
      " 142500. 257000. 147000. 230000.  94550. 180500. 142000. 475000. 200000.\n",
      " 148000. 144000. 130000.  97000. 287000. 165000. 130000. 211000. 136000.\n",
      " 229800. 122000. 159900. 209000. 290000. 157000. 244000. 141000. 127000.\n",
      "  83000. 181134. 207000. 135000. 150000. 225000. 332200.  85000. 183000.\n",
      " 179900. 250000. 144000. 126000.  61000. 187500. 500000. 173000. 118500.\n",
      " 147500.]\n"
     ]
    }
   ],
   "source": [
    "from sklearn.tree import DecisionTreeRegressor\n",
    "\n",
    "# Initialize the model\n",
    "dt = DecisionTreeRegressor(random_state=42)\n",
    "\n",
    "# Fit the model\n",
    "dt.fit(X_train_scaled, y_train)\n",
    "\n",
    "# Make predictions\n",
    "y_pred = dt.predict(X_test_scaled)\n",
    "mse = mean_squared_error(y_test, y_pred)\n",
    "r2 = r2_score(y_test, y_pred)\n",
    "print(f'Mean Squared Error: {mse}')\n",
    "print(f'R^2 Score: {r2}')\n",
    "print(y_pred)"
   ]
  },
  {
   "cell_type": "code",
   "execution_count": 75,
   "id": "b090605d-a618-45f7-8573-09e0efb457d9",
   "metadata": {},
   "outputs": [
    {
     "data": {
      "image/png": "[encoded data removed]",
      "text/plain": [
       "<Figure size 640x480 with 1 Axes>"
      ]
     },
     "metadata": {},
     "output_type": "display_data"
    }
   ],
   "source": [
    "#Gradient Boosting Regressor\n",
    "import matplotlib.pyplot as plt\n",
    "\n",
    "plt.scatter(y_test, y_pred)\n",
    "plt.xlabel('Actual Prices')\n",
    "plt.ylabel('Predicted Prices')\n",
    "plt.title('Actual vs Predicted Prices')\n",
    "plt.show()"
   ]
  }
 ],
 "metadata": {
  "kernelspec": {
   "display_name": "Python 3 (ipykernel)",
   "language": "python",
   "name": "python3"
  },
  "language_info": {
   "codemirror_mode": {
    "name": "ipython",
    "version": 3
   },
   "file_extension": ".py",
   "mimetype": "text/x-python",
   "name": "python",
   "nbconvert_exporter": "python",
   "pygments_lexer": "ipython3",
   "version": "3.11.7"
  }
 },
 "nbformat": 4,
 "nbformat_minor": 5
}
